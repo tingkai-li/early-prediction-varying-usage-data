{
 "cells": [
  {
   "cell_type": "code",
   "execution_count": 1,
   "metadata": {},
   "outputs": [
    {
     "name": "stderr",
     "output_type": "stream",
     "text": [
      "WARNING (theano.tensor.blas): Using NumPy C-API based implementation for BLAS functions.\n"
     ]
    }
   ],
   "source": [
    "import numpy as np\n",
    "from theano import shared\n",
    "import pandas as pd\n",
    "import seaborn as sns\n",
    "\n",
    "from sklearn.model_selection import train_test_split\n",
    "from sklearn.metrics import mean_squared_error\n",
    "from sklearn.metrics import mean_absolute_percentage_error\n",
    "from sklearn.preprocessing import StandardScaler\n",
    "\n",
    "# the pymc3 version used - 3.11.5\n",
    "import pymc3 as pm\n",
    "import matplotlib.pyplot as plt\n",
    "\n",
    "DATA_DIR = '/final_train_test_split/'\n",
    "plt.rcParams[\"font.family\"] = \"Times New Roman\"\n",
    "plt.style.use('seaborn-ticks')"
   ]
  },
  {
   "cell_type": "code",
   "execution_count": 2,
   "metadata": {},
   "outputs": [],
   "source": [
    "def hbm_vary_intercepts_slopes_model(train_df, test_df, selected_names, individual_names, feat_dim):\n",
    "    \"\"\"\n",
    "    This the main function for hierarchical Bayesian model(HBM) used in the paper \n",
    "    <PREDICTING BATTERY LIFETIME UNDER VARYING USAGE CONDITIONS FROM EARLY AGING DATA>\n",
    "\n",
    "    intput_params: \n",
    "        train_df - the training set with necessary group/individual features\n",
    "        test_df - the test set including with necessary group/individual features\n",
    "        selected_names - all feature column names\n",
    "        individual_names - individual-level feature column names\n",
    "        feat_dim - individual-level feature number, will influening the HBM model structure\n",
    "    outputs:\n",
    "        tol_rmse_hierarchical - average Root-mean-square-error (RMSE) for predictions on the test set\n",
    "        tol_mape_hierarchical - average mean-absolute-percentage-error (MAPE) for predictions on the test set\n",
    "\n",
    "    \"\"\"\n",
    "\n",
    "    # Using optimal 4 clusters setting mentioned in the paper\n",
    "    group_num = len(train_df.cluster_c4.unique())\n",
    "    with_group_names = selected_names.copy()\n",
    "    with_group_names.append('cluster_c4')\n",
    "\n",
    "    x_train, x_test = train_df.loc[:, with_group_names], test_df.loc[:, with_group_names]\n",
    "    y_train, y_test = train_df.loc[:,'Lifetime'], test_df.loc[:,'Lifetime']\n",
    "\n",
    "    # calculate group level feature for each cluster\n",
    "    group_level_variables_train = np.zeros((group_num,1))\n",
    "    for group_idx in range(group_num):\n",
    "        mean_gf = np.mean(x_train.loc[x_train.cluster_c4 == group_idx, 'added_stress'].values)\n",
    "        group_level_variables_train[group_idx,0] = mean_gf\n",
    "\n",
    "    raw_group_ind = x_train.loc[:,'cluster_c4'].values\n",
    "    raw_group_ind = raw_group_ind.astype(int)\n",
    "    group_ind = shared(np.asarray(raw_group_ind))\n",
    "\n",
    "    # Standard Scaler for both train and test set\n",
    "    transformer = StandardScaler()\n",
    "    processed_x_train = transformer.fit_transform(x_train.loc[:,individual_names])\n",
    "    processed_x_test = transformer.transform(x_test.loc[:,individual_names])\n",
    "\n",
    "    # Main HBM construction\n",
    "    with pm.Model() as hierarchical_model:\n",
    "        data = pm.Data('data', processed_x_train)\n",
    "        group_data = pm.Data('group_data', group_level_variables_train)\n",
    "\n",
    "        g_intercept = pm.Normal('g_intercept', mu = 12, sigma=10)\n",
    "        g = pm.Normal('g', mu = 0, sigma = 1) # hyperprior intercept\n",
    "        mu_intercept = g_intercept + g * group_data[:,0]\n",
    "        intercept = pm.Deterministic('intercept', mu_intercept)\n",
    "\n",
    "        # hyperprior slope0 - slope2\n",
    "        g_slope0 = pm.Normal('g_slope0', mu = 0, sigma = 10, shape = 2) \n",
    "        mu_slope0 =  g_slope0[0] + g_slope0[1] * group_data[:,0]\n",
    "        slope_0 = pm.Deterministic('slope_0', mu_slope0)\n",
    "\n",
    "        g_slope1 = pm.Normal('g_slope1', mu = 0, sigma = 10, shape = 2) \n",
    "        mu_slope1 = g_slope1[0] + g_slope1[1] * group_data[:,0] \n",
    "        slope_1 = pm.Deterministic('slope_1', mu_slope1)\n",
    "\n",
    "        # Two model construction choices: 2 or 3 individual-level features\n",
    "        if feat_dim == 2:\n",
    "            g_noise = pm.HalfCauchy('g_noise', beta=1)\n",
    "            noise = pm.HalfCauchy('noise', beta=g_noise, shape=group_num)\n",
    "            sds = noise[group_ind]\n",
    "            y_est = intercept[group_ind] + slope_0[group_ind] * data[:,0] + slope_1[group_ind] * data[:,1]\n",
    "        elif feat_dim == 3:\n",
    "            g_slope2 = pm.Normal('g_slope2', mu = 0, sigma = 10, shape = 2) # hyperprior slope0 - slope2\n",
    "            mu_slope2 = g_slope2[0] + g_slope2[1] * group_data[:,0]\n",
    "            slope_2 = pm.Deterministic('slope_2', mu_slope2)\n",
    "            g_noise = pm.HalfCauchy('g_noise', beta=1)\n",
    "            noise = pm.HalfCauchy('noise', beta=g_noise, shape=group_num)\n",
    "            sds = noise[group_ind]\n",
    "            y_est = intercept[group_ind] + slope_0[group_ind] * data[:,0] + slope_1[group_ind] * data[:,1] + slope_2[group_ind] * data[:,2]\n",
    "        else:\n",
    "            raise ValueError('The individual level features number is either 2 or 3.')\n",
    "        \n",
    "        # sampling/inference step, the choice of tune and trace is set to 1000 which is common in analysis\n",
    "        likelihood = pm.Normal('y_like', mu=y_est, sd=sds, observed=y_train.values)\n",
    "        hierarchical_trace = pm.sample(1000, tune=1000, target_accept=0.99,return_inferencedata=False)\n",
    "\n",
    "    with hierarchical_model:\n",
    "        all_test = processed_x_test\n",
    "        all_labels = y_test.values\n",
    "\n",
    "        raw_group_ind = x_test.loc[:,'cluster_c4'].values\n",
    "        raw_group_ind = raw_group_ind.astype(int)\n",
    "        group_ind.set_value(np.asarray(raw_group_ind))\n",
    "        \n",
    "        pm.set_data({'data': all_test}, model=hierarchical_model)\n",
    "        all_posterior_samples = pm.sample_posterior_predictive(hierarchical_trace)\n",
    "        all_pred = all_posterior_samples[\"y_like\"].mean(axis=0)\n",
    "        tol_mape_hierarchical = mean_absolute_percentage_error(y_true = all_labels, \n",
    "                                            y_pred = all_pred)\n",
    "        tol_rmse_hierarchical = mean_squared_error(y_true= all_labels, \n",
    "                                            y_pred = all_pred, squared=False)\n",
    "                           \n",
    "    return [tol_rmse_hierarchical, tol_mape_hierarchical, hierarchical_trace, all_pred, all_posterior_samples]"
   ]
  },
  {
   "cell_type": "code",
   "execution_count": 3,
   "metadata": {},
   "outputs": [],
   "source": [
    "DATA_DIR = 'final_train_test_split/'\n",
    "train_df = pd.read_csv(DATA_DIR + 'train.csv',index_col=0)\n",
    "testin_df = pd.read_csv(DATA_DIR + 'test_in.csv',index_col=0)\n",
    "testout_df = pd.read_csv(DATA_DIR + 'test_out.csv',index_col=0)"
   ]
  },
  {
   "cell_type": "code",
   "execution_count": 4,
   "metadata": {},
   "outputs": [],
   "source": [
    "# Calculate the corresponding features mentioned in the paper\n",
    "# avg-rate: Stress_avg - the group level feature\n",
    "# log_mean_dqdv_dchg_mid_3_0, log_delta_CV_time_03 are the top two individual-level features mention in Table 1\n",
    "\n",
    "train_df['avg_rate'] = (train_df.ChgC_rate + train_df.DchgC_rate) /2\n",
    "testin_df['avg_rate'] = (testin_df.ChgC_rate + testin_df.DchgC_rate) /2\n",
    "testout_df['avg_rate'] = (testout_df.ChgC_rate + testout_df.DchgC_rate) /2\n",
    "\n",
    "train_df['log_mean_dqdv_dchg_mid_3_0'] = np.log(abs(train_df.mean_dqdv_dchg_mid_3_0))\n",
    "testin_df['log_mean_dqdv_dchg_mid_3_0'] = np.log(abs(testin_df.mean_dqdv_dchg_mid_3_0))\n",
    "testout_df['log_mean_dqdv_dchg_mid_3_0'] = np.log(abs(testout_df.mean_dqdv_dchg_mid_3_0))\n",
    "\n",
    "train_df['log_delta_CV_time_03'] = np.log(abs(train_df.delta_CV_time_03))\n",
    "testin_df['log_delta_CV_time_03'] = np.log(abs(testin_df.delta_CV_time_03))\n",
    "testout_df['log_delta_CV_time_03'] = np.log(abs(testout_df.delta_CV_time_03))\n",
    "\n",
    "train_df['log(Lifetime)'] = np.log(train_df.Lifetime)\n",
    "testin_df['log(Lifetime)'] = np.log(testin_df.Lifetime)\n",
    "testout_df['log(Lifetime)'] = np.log(testout_df.Lifetime)"
   ]
  },
  {
   "cell_type": "code",
   "execution_count": 5,
   "metadata": {},
   "outputs": [
    {
     "name": "stderr",
     "output_type": "stream",
     "text": [
      "Auto-assigning NUTS sampler...\n",
      "Initializing NUTS using jitter+adapt_diag...\n",
      "Multiprocess sampling (4 chains in 4 jobs)\n",
      "NUTS: [noise, g_noise, g_slope1, g_slope0, g, g_intercept]\n"
     ]
    },
    {
     "data": {
      "text/html": [
       "\n",
       "<style>\n",
       "    /* Turns off some styling */\n",
       "    progress {\n",
       "        /* gets rid of default border in Firefox and Opera. */\n",
       "        border: none;\n",
       "        /* Needs to be in here for Safari polyfill so background images work as expected. */\n",
       "        background-size: auto;\n",
       "    }\n",
       "    .progress-bar-interrupted, .progress-bar-interrupted::-webkit-progress-bar {\n",
       "        background: #F44336;\n",
       "    }\n",
       "</style>\n"
      ],
      "text/plain": [
       "<IPython.core.display.HTML object>"
      ]
     },
     "metadata": {},
     "output_type": "display_data"
    },
    {
     "data": {
      "text/html": [
       "\n",
       "    <div>\n",
       "      <progress value='8000' class='' max='8000' style='width:300px; height:20px; vertical-align: middle;'></progress>\n",
       "      100.00% [8000/8000 00:50<00:00 Sampling 4 chains, 0 divergences]\n",
       "    </div>\n",
       "    "
      ],
      "text/plain": [
       "<IPython.core.display.HTML object>"
      ]
     },
     "metadata": {},
     "output_type": "display_data"
    },
    {
     "name": "stderr",
     "output_type": "stream",
     "text": [
      "Sampling 4 chains for 1_000 tune and 1_000 draw iterations (4_000 + 4_000 draws total) took 81 seconds.\n"
     ]
    },
    {
     "name": "stdout",
     "output_type": "stream",
     "text": [
      "Could not locate executable g77\n",
      "Could not locate executable f77\n",
      "Could not locate executable ifort\n",
      "Could not locate executable ifl\n",
      "Could not locate executable f90\n",
      "Could not locate executable DF\n",
      "Could not locate executable efl\n"
     ]
    },
    {
     "data": {
      "text/html": [
       "\n",
       "<style>\n",
       "    /* Turns off some styling */\n",
       "    progress {\n",
       "        /* gets rid of default border in Firefox and Opera. */\n",
       "        border: none;\n",
       "        /* Needs to be in here for Safari polyfill so background images work as expected. */\n",
       "        background-size: auto;\n",
       "    }\n",
       "    .progress-bar-interrupted, .progress-bar-interrupted::-webkit-progress-bar {\n",
       "        background: #F44336;\n",
       "    }\n",
       "</style>\n"
      ],
      "text/plain": [
       "<IPython.core.display.HTML object>"
      ]
     },
     "metadata": {},
     "output_type": "display_data"
    },
    {
     "data": {
      "text/html": [
       "\n",
       "    <div>\n",
       "      <progress value='4000' class='' max='4000' style='width:300px; height:20px; vertical-align: middle;'></progress>\n",
       "      100.00% [4000/4000 00:03<00:00]\n",
       "    </div>\n",
       "    "
      ],
      "text/plain": [
       "<IPython.core.display.HTML object>"
      ]
     },
     "metadata": {},
     "output_type": "display_data"
    },
    {
     "name": "stderr",
     "output_type": "stream",
     "text": [
      "Auto-assigning NUTS sampler...\n",
      "Initializing NUTS using jitter+adapt_diag...\n",
      "Multiprocess sampling (4 chains in 4 jobs)\n",
      "NUTS: [noise, g_noise, g_slope1, g_slope0, g, g_intercept]\n"
     ]
    },
    {
     "data": {
      "text/html": [
       "\n",
       "<style>\n",
       "    /* Turns off some styling */\n",
       "    progress {\n",
       "        /* gets rid of default border in Firefox and Opera. */\n",
       "        border: none;\n",
       "        /* Needs to be in here for Safari polyfill so background images work as expected. */\n",
       "        background-size: auto;\n",
       "    }\n",
       "    .progress-bar-interrupted, .progress-bar-interrupted::-webkit-progress-bar {\n",
       "        background: #F44336;\n",
       "    }\n",
       "</style>\n"
      ],
      "text/plain": [
       "<IPython.core.display.HTML object>"
      ]
     },
     "metadata": {},
     "output_type": "display_data"
    },
    {
     "data": {
      "text/html": [
       "\n",
       "    <div>\n",
       "      <progress value='8000' class='' max='8000' style='width:300px; height:20px; vertical-align: middle;'></progress>\n",
       "      100.00% [8000/8000 00:49<00:00 Sampling 4 chains, 0 divergences]\n",
       "    </div>\n",
       "    "
      ],
      "text/plain": [
       "<IPython.core.display.HTML object>"
      ]
     },
     "metadata": {},
     "output_type": "display_data"
    },
    {
     "name": "stderr",
     "output_type": "stream",
     "text": [
      "Sampling 4 chains for 1_000 tune and 1_000 draw iterations (4_000 + 4_000 draws total) took 79 seconds.\n"
     ]
    },
    {
     "data": {
      "text/html": [
       "\n",
       "<style>\n",
       "    /* Turns off some styling */\n",
       "    progress {\n",
       "        /* gets rid of default border in Firefox and Opera. */\n",
       "        border: none;\n",
       "        /* Needs to be in here for Safari polyfill so background images work as expected. */\n",
       "        background-size: auto;\n",
       "    }\n",
       "    .progress-bar-interrupted, .progress-bar-interrupted::-webkit-progress-bar {\n",
       "        background: #F44336;\n",
       "    }\n",
       "</style>\n"
      ],
      "text/plain": [
       "<IPython.core.display.HTML object>"
      ]
     },
     "metadata": {},
     "output_type": "display_data"
    },
    {
     "data": {
      "text/html": [
       "\n",
       "    <div>\n",
       "      <progress value='4000' class='' max='4000' style='width:300px; height:20px; vertical-align: middle;'></progress>\n",
       "      100.00% [4000/4000 00:07<00:00]\n",
       "    </div>\n",
       "    "
      ],
      "text/plain": [
       "<IPython.core.display.HTML object>"
      ]
     },
     "metadata": {},
     "output_type": "display_data"
    },
    {
     "name": "stderr",
     "output_type": "stream",
     "text": [
      "Auto-assigning NUTS sampler...\n",
      "Initializing NUTS using jitter+adapt_diag...\n",
      "Multiprocess sampling (4 chains in 4 jobs)\n",
      "NUTS: [noise, g_noise, g_slope1, g_slope0, g, g_intercept]\n"
     ]
    },
    {
     "data": {
      "text/html": [
       "\n",
       "<style>\n",
       "    /* Turns off some styling */\n",
       "    progress {\n",
       "        /* gets rid of default border in Firefox and Opera. */\n",
       "        border: none;\n",
       "        /* Needs to be in here for Safari polyfill so background images work as expected. */\n",
       "        background-size: auto;\n",
       "    }\n",
       "    .progress-bar-interrupted, .progress-bar-interrupted::-webkit-progress-bar {\n",
       "        background: #F44336;\n",
       "    }\n",
       "</style>\n"
      ],
      "text/plain": [
       "<IPython.core.display.HTML object>"
      ]
     },
     "metadata": {},
     "output_type": "display_data"
    },
    {
     "data": {
      "text/html": [
       "\n",
       "    <div>\n",
       "      <progress value='8000' class='' max='8000' style='width:300px; height:20px; vertical-align: middle;'></progress>\n",
       "      100.00% [8000/8000 00:50<00:00 Sampling 4 chains, 0 divergences]\n",
       "    </div>\n",
       "    "
      ],
      "text/plain": [
       "<IPython.core.display.HTML object>"
      ]
     },
     "metadata": {},
     "output_type": "display_data"
    },
    {
     "name": "stderr",
     "output_type": "stream",
     "text": [
      "Sampling 4 chains for 1_000 tune and 1_000 draw iterations (4_000 + 4_000 draws total) took 79 seconds.\n"
     ]
    },
    {
     "data": {
      "text/html": [
       "\n",
       "<style>\n",
       "    /* Turns off some styling */\n",
       "    progress {\n",
       "        /* gets rid of default border in Firefox and Opera. */\n",
       "        border: none;\n",
       "        /* Needs to be in here for Safari polyfill so background images work as expected. */\n",
       "        background-size: auto;\n",
       "    }\n",
       "    .progress-bar-interrupted, .progress-bar-interrupted::-webkit-progress-bar {\n",
       "        background: #F44336;\n",
       "    }\n",
       "</style>\n"
      ],
      "text/plain": [
       "<IPython.core.display.HTML object>"
      ]
     },
     "metadata": {},
     "output_type": "display_data"
    },
    {
     "data": {
      "text/html": [
       "\n",
       "    <div>\n",
       "      <progress value='4000' class='' max='4000' style='width:300px; height:20px; vertical-align: middle;'></progress>\n",
       "      100.00% [4000/4000 00:07<00:00]\n",
       "    </div>\n",
       "    "
      ],
      "text/plain": [
       "<IPython.core.display.HTML object>"
      ]
     },
     "metadata": {},
     "output_type": "display_data"
    },
    {
     "name": "stdout",
     "output_type": "stream",
     "text": [
      "train set: RMSE-3.261 MAPE-0.186\n",
      "testin set: RMSE-3.054 MAPE-0.168\n",
      "testout set: RMSE-7.337 MAPE-0.218\n"
     ]
    }
   ],
   "source": [
    "# This the experiment on HBM (with 2 individual level features)\n",
    "# Results recorded in Table 2\n",
    "selected_names = ['added_stress', 'log_mean_dqdv_dchg_mid_3_0','log_delta_CV_time_03']\n",
    "individual_names = [ 'log_mean_dqdv_dchg_mid_3_0','log_delta_CV_time_03']\n",
    "\n",
    "rmse_hbm_train, mape_hbm_train, sample_trace_train, all_preds_train, posterior_hbm_train = hbm_vary_intercepts_slopes_model(train_df, train_df, selected_names, individual_names, feat_dim=2)\n",
    "rmse_hbm_testin, mape_hbm_testin, sample_trace_testin, all_preds_testin, posterior_hbm_testin = hbm_vary_intercepts_slopes_model(train_df, testin_df, selected_names, individual_names, feat_dim=2)\n",
    "rmse_hbm_testout, mape_hbm_testout, sample_trace_testout, all_preds_testout, posterior_hbm_testout  = hbm_vary_intercepts_slopes_model(train_df, testout_df, selected_names, individual_names, feat_dim=2)\n",
    "\n",
    "print('train set: RMSE-{} MAPE-{}'.format(rmse_hbm_train.round(3), mape_hbm_train.round(3)))\n",
    "print('testin set: RMSE-{} MAPE-{}'.format(rmse_hbm_testin.round(3), mape_hbm_testin.round(3)))\n",
    "print('testout set: RMSE-{} MAPE-{}'.format(rmse_hbm_testout.round(3), mape_hbm_testout.round(3)))\n",
    "\n",
    "# Save the whole posterior for prediction as csv files\n",
    "# Use them to generate Fig 5 in the paper\n",
    "np.savetxt('hbm_posterior_train.csv', posterior_hbm_train['y_like'])\n",
    "np.savetxt('hbm_posterior_testin.csv', posterior_hbm_testin['y_like'])\n",
    "np.savetxt('hbm_posterior_testout.csv', posterior_hbm_testout['y_like'])\n",
    "\n",
    "# Save posterior for parameters as csv files\n",
    "# Use them to generate Fig 5 in the paper\n",
    "np.savetxt('hbm_intercepts.csv', sample_trace_train['intercept'])\n",
    "np.savetxt('hbm_slope0s.csv', sample_trace_train['slope_0'])\n",
    "np.savetxt('hbm_slope1s.csv', sample_trace_train['slope_1'])\n",
    "np.savetxt('hbm_noises.csv', sample_trace_train['noise'])\n"
   ]
  },
  {
   "cell_type": "code",
   "execution_count": 51,
   "metadata": {},
   "outputs": [
    {
     "name": "stderr",
     "output_type": "stream",
     "text": [
      "Auto-assigning NUTS sampler...\n",
      "Initializing NUTS using jitter+adapt_diag...\n",
      "Multiprocess sampling (4 chains in 4 jobs)\n",
      "NUTS: [noise, g_noise, g_slope2, g_slope1, g_slope0, g, g_intercept]\n"
     ]
    },
    {
     "data": {
      "text/html": [
       "\n",
       "<style>\n",
       "    /* Turns off some styling */\n",
       "    progress {\n",
       "        /* gets rid of default border in Firefox and Opera. */\n",
       "        border: none;\n",
       "        /* Needs to be in here for Safari polyfill so background images work as expected. */\n",
       "        background-size: auto;\n",
       "    }\n",
       "    .progress-bar-interrupted, .progress-bar-interrupted::-webkit-progress-bar {\n",
       "        background: #F44336;\n",
       "    }\n",
       "</style>\n"
      ],
      "text/plain": [
       "<IPython.core.display.HTML object>"
      ]
     },
     "metadata": {},
     "output_type": "display_data"
    },
    {
     "data": {
      "text/html": [
       "\n",
       "    <div>\n",
       "      <progress value='8000' class='' max='8000' style='width:300px; height:20px; vertical-align: middle;'></progress>\n",
       "      100.00% [8000/8000 01:18<00:00 Sampling 4 chains, 0 divergences]\n",
       "    </div>\n",
       "    "
      ],
      "text/plain": [
       "<IPython.core.display.HTML object>"
      ]
     },
     "metadata": {},
     "output_type": "display_data"
    },
    {
     "name": "stderr",
     "output_type": "stream",
     "text": [
      "Sampling 4 chains for 1_000 tune and 1_000 draw iterations (4_000 + 4_000 draws total) took 117 seconds.\n"
     ]
    },
    {
     "data": {
      "text/html": [
       "\n",
       "<style>\n",
       "    /* Turns off some styling */\n",
       "    progress {\n",
       "        /* gets rid of default border in Firefox and Opera. */\n",
       "        border: none;\n",
       "        /* Needs to be in here for Safari polyfill so background images work as expected. */\n",
       "        background-size: auto;\n",
       "    }\n",
       "    .progress-bar-interrupted, .progress-bar-interrupted::-webkit-progress-bar {\n",
       "        background: #F44336;\n",
       "    }\n",
       "</style>\n"
      ],
      "text/plain": [
       "<IPython.core.display.HTML object>"
      ]
     },
     "metadata": {},
     "output_type": "display_data"
    },
    {
     "data": {
      "text/html": [
       "\n",
       "    <div>\n",
       "      <progress value='4000' class='' max='4000' style='width:300px; height:20px; vertical-align: middle;'></progress>\n",
       "      100.00% [4000/4000 00:05<00:00]\n",
       "    </div>\n",
       "    "
      ],
      "text/plain": [
       "<IPython.core.display.HTML object>"
      ]
     },
     "metadata": {},
     "output_type": "display_data"
    },
    {
     "name": "stderr",
     "output_type": "stream",
     "text": [
      "Auto-assigning NUTS sampler...\n",
      "Initializing NUTS using jitter+adapt_diag...\n",
      "Multiprocess sampling (4 chains in 4 jobs)\n",
      "NUTS: [noise, g_noise, g_slope2, g_slope1, g_slope0, g, g_intercept]\n"
     ]
    },
    {
     "data": {
      "text/html": [
       "\n",
       "<style>\n",
       "    /* Turns off some styling */\n",
       "    progress {\n",
       "        /* gets rid of default border in Firefox and Opera. */\n",
       "        border: none;\n",
       "        /* Needs to be in here for Safari polyfill so background images work as expected. */\n",
       "        background-size: auto;\n",
       "    }\n",
       "    .progress-bar-interrupted, .progress-bar-interrupted::-webkit-progress-bar {\n",
       "        background: #F44336;\n",
       "    }\n",
       "</style>\n"
      ],
      "text/plain": [
       "<IPython.core.display.HTML object>"
      ]
     },
     "metadata": {},
     "output_type": "display_data"
    },
    {
     "data": {
      "text/html": [
       "\n",
       "    <div>\n",
       "      <progress value='8000' class='' max='8000' style='width:300px; height:20px; vertical-align: middle;'></progress>\n",
       "      100.00% [8000/8000 01:17<00:00 Sampling 4 chains, 0 divergences]\n",
       "    </div>\n",
       "    "
      ],
      "text/plain": [
       "<IPython.core.display.HTML object>"
      ]
     },
     "metadata": {},
     "output_type": "display_data"
    },
    {
     "name": "stderr",
     "output_type": "stream",
     "text": [
      "Sampling 4 chains for 1_000 tune and 1_000 draw iterations (4_000 + 4_000 draws total) took 113 seconds.\n"
     ]
    },
    {
     "data": {
      "text/html": [
       "\n",
       "<style>\n",
       "    /* Turns off some styling */\n",
       "    progress {\n",
       "        /* gets rid of default border in Firefox and Opera. */\n",
       "        border: none;\n",
       "        /* Needs to be in here for Safari polyfill so background images work as expected. */\n",
       "        background-size: auto;\n",
       "    }\n",
       "    .progress-bar-interrupted, .progress-bar-interrupted::-webkit-progress-bar {\n",
       "        background: #F44336;\n",
       "    }\n",
       "</style>\n"
      ],
      "text/plain": [
       "<IPython.core.display.HTML object>"
      ]
     },
     "metadata": {},
     "output_type": "display_data"
    },
    {
     "data": {
      "text/html": [
       "\n",
       "    <div>\n",
       "      <progress value='4000' class='' max='4000' style='width:300px; height:20px; vertical-align: middle;'></progress>\n",
       "      100.00% [4000/4000 00:08<00:00]\n",
       "    </div>\n",
       "    "
      ],
      "text/plain": [
       "<IPython.core.display.HTML object>"
      ]
     },
     "metadata": {},
     "output_type": "display_data"
    },
    {
     "name": "stderr",
     "output_type": "stream",
     "text": [
      "Auto-assigning NUTS sampler...\n",
      "Initializing NUTS using jitter+adapt_diag...\n",
      "Multiprocess sampling (4 chains in 4 jobs)\n",
      "NUTS: [noise, g_noise, g_slope2, g_slope1, g_slope0, g, g_intercept]\n"
     ]
    },
    {
     "data": {
      "text/html": [
       "\n",
       "<style>\n",
       "    /* Turns off some styling */\n",
       "    progress {\n",
       "        /* gets rid of default border in Firefox and Opera. */\n",
       "        border: none;\n",
       "        /* Needs to be in here for Safari polyfill so background images work as expected. */\n",
       "        background-size: auto;\n",
       "    }\n",
       "    .progress-bar-interrupted, .progress-bar-interrupted::-webkit-progress-bar {\n",
       "        background: #F44336;\n",
       "    }\n",
       "</style>\n"
      ],
      "text/plain": [
       "<IPython.core.display.HTML object>"
      ]
     },
     "metadata": {},
     "output_type": "display_data"
    },
    {
     "data": {
      "text/html": [
       "\n",
       "    <div>\n",
       "      <progress value='8000' class='' max='8000' style='width:300px; height:20px; vertical-align: middle;'></progress>\n",
       "      100.00% [8000/8000 01:11<00:00 Sampling 4 chains, 0 divergences]\n",
       "    </div>\n",
       "    "
      ],
      "text/plain": [
       "<IPython.core.display.HTML object>"
      ]
     },
     "metadata": {},
     "output_type": "display_data"
    },
    {
     "name": "stderr",
     "output_type": "stream",
     "text": [
      "Sampling 4 chains for 1_000 tune and 1_000 draw iterations (4_000 + 4_000 draws total) took 101 seconds.\n"
     ]
    },
    {
     "data": {
      "text/html": [
       "\n",
       "<style>\n",
       "    /* Turns off some styling */\n",
       "    progress {\n",
       "        /* gets rid of default border in Firefox and Opera. */\n",
       "        border: none;\n",
       "        /* Needs to be in here for Safari polyfill so background images work as expected. */\n",
       "        background-size: auto;\n",
       "    }\n",
       "    .progress-bar-interrupted, .progress-bar-interrupted::-webkit-progress-bar {\n",
       "        background: #F44336;\n",
       "    }\n",
       "</style>\n"
      ],
      "text/plain": [
       "<IPython.core.display.HTML object>"
      ]
     },
     "metadata": {},
     "output_type": "display_data"
    },
    {
     "data": {
      "text/html": [
       "\n",
       "    <div>\n",
       "      <progress value='4000' class='' max='4000' style='width:300px; height:20px; vertical-align: middle;'></progress>\n",
       "      100.00% [4000/4000 00:08<00:00]\n",
       "    </div>\n",
       "    "
      ],
      "text/plain": [
       "<IPython.core.display.HTML object>"
      ]
     },
     "metadata": {},
     "output_type": "display_data"
    },
    {
     "name": "stdout",
     "output_type": "stream",
     "text": [
      "train set: RMSE-3.103 MAPE-0.175\n",
      "testin set: RMSE-2.832 MAPE-0.156\n",
      "testout set: RMSE-7.551 MAPE-0.242\n"
     ]
    }
   ],
   "source": [
    "# This the experiment on HBM (with 3 individual level features)\n",
    "# Results recorded in Table 2\n",
    "\n",
    "selected_names = ['added_stress', 'log_mean_dqdv_dchg_mid_3_0','log_delta_CV_time_03','DoD']\n",
    "individual_names = [ 'log_mean_dqdv_dchg_mid_3_0','log_delta_CV_time_03','DoD']\n",
    "\n",
    "rmse_hbm_train, mape_hbm_train, _, _, _ = hbm_vary_intercepts_slopes_model(train_df, train_df, selected_names, individual_names, feat_dim=3)\n",
    "rmse_hbm_testin, mape_hbm_testin, _, _, _ = hbm_vary_intercepts_slopes_model(train_df, testin_df, selected_names, individual_names, feat_dim=3)\n",
    "rmse_hbm_testout, mape_hbm_testout, _, _, _ = hbm_vary_intercepts_slopes_model(train_df, testout_df, selected_names, individual_names, feat_dim=3)\n",
    "\n",
    "print('train set: RMSE-{} MAPE-{}'.format(rmse_hbm_train.round(3), mape_hbm_train.round(3)))\n",
    "print('testin set: RMSE-{} MAPE-{}'.format(rmse_hbm_testin.round(3), mape_hbm_testin.round(3)))\n",
    "print('testout set: RMSE-{} MAPE-{}'.format(rmse_hbm_testout.round(3), mape_hbm_testout.round(3)))"
   ]
  }
 ],
 "metadata": {
  "kernelspec": {
   "display_name": "pymc_env",
   "language": "python",
   "name": "python3"
  },
  "language_info": {
   "codemirror_mode": {
    "name": "ipython",
    "version": 3
   },
   "file_extension": ".py",
   "mimetype": "text/x-python",
   "name": "python",
   "nbconvert_exporter": "python",
   "pygments_lexer": "ipython3",
   "version": "3.10.4"
  }
 },
 "nbformat": 4,
 "nbformat_minor": 2
}
